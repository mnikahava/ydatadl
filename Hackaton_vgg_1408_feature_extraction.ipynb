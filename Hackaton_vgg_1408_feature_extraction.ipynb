{
  "nbformat": 4,
  "nbformat_minor": 0,
  "metadata": {
    "colab": {
      "name": "Copy of vgg-1408-feature-extraction.ipynb",
      "version": "0.3.2",
      "provenance": [],
      "collapsed_sections": [],
      "include_colab_link": true
    },
    "kernelspec": {
      "name": "python3",
      "display_name": "Python 3"
    },
    "accelerator": "GPU"
  },
  "cells": [
    {
      "cell_type": "markdown",
      "metadata": {
        "id": "view-in-github",
        "colab_type": "text"
      },
      "source": [
        "<a href=\"https://colab.research.google.com/github/mnikahava/ydatadl/blob/master/Hackaton_vgg_1408_feature_extraction.ipynb\" target=\"_parent\"><img src=\"https://colab.research.google.com/assets/colab-badge.svg\" alt=\"Open In Colab\"/></a>"
      ]
    },
    {
      "metadata": {
        "id": "nLzdGaYe7Zzh",
        "colab_type": "text"
      },
      "cell_type": "markdown",
      "source": [
        "# Fixed Feature Extraction Using VGG\n",
        "\n",
        "### DB:\n",
        "https://www.kaggle.com/iarunava/cell-images-for-detecting-malaria/downloads/cell-images-for-detecting-malaria.zip/1\n",
        "\n",
        "### Paper:\n",
        "https://arxiv.org/abs/1802.00752\n",
        "\n",
        "\n",
        "### Sample notebook:\n",
        "https://www.kaggle.com/ingbiodanielh/malaria-detection-with-fastai-v1\n",
        "\n",
        "## Steps to solve the problem\n",
        "\n",
        "- Extract bottleneck VGG features using a pre-trained model (VGG19)\n",
        "- Construct several classifiers\n",
        "    - Support Vector Machine\n",
        "    - XGBoost\n",
        "    - Simple Multi-Layered Perceptron\n",
        "    - LightGBM \n",
        "    - Any CNN\n",
        "- Predict labels\n",
        "\n",
        "## Your task:\n",
        "- look for \"*YOUR CODE HERE*\" and provide a solution"
      ]
    },
    {
      "metadata": {
        "id": "jkDcRsxC7Zzk",
        "colab_type": "code",
        "outputId": "fad63b2a-5611-480b-e023-bb587f771bb8",
        "colab": {
          "base_uri": "https://localhost:8080/",
          "height": 34
        }
      },
      "cell_type": "code",
      "source": [
        "%reset -f\n",
        "import os\n",
        "import zipfile\n",
        "import hashlib\n",
        "from six.moves.urllib.error import URLError\n",
        "from six.moves.urllib.request import urlretrieve\n",
        "import argparse\n",
        "from tqdm import tqdm\n",
        "from keras.applications.resnet50 import ResNet50, preprocess_input as preprocess_resnet, decode_predictions\n",
        "from keras.applications.inception_v3 import InceptionV3, preprocess_input as preprocess_inception\n",
        "from keras.applications.vgg16 import VGG16, preprocess_input as preprocess_vgg\n",
        "from keras.preprocessing import image\n",
        "from keras import backend as K\n",
        "from keras.models import Model\n",
        "from keras.layers import GlobalAveragePooling2D, Concatenate\n",
        "import numpy as np\n",
        "\n",
        "import numpy as np\n",
        "import pandas as pd\n",
        "import time, os, glob\n",
        "import cv2\n",
        "\n",
        "from keras.applications.vgg16 import VGG16\n",
        "from keras.optimizers import SGD, Adam\n",
        "from keras.layers import GlobalAveragePooling2D\n",
        "from keras.models import Model\n",
        "from keras.applications.imagenet_utils import preprocess_input\n",
        "\n",
        "from os.path import isfile, join, abspath, exists, isdir, expanduser\n",
        "from os import listdir, makedirs, getcwd, remove"
      ],
      "execution_count": 0,
      "outputs": [
        {
          "output_type": "stream",
          "text": [
            "Using TensorFlow backend.\n"
          ],
          "name": "stderr"
        }
      ]
    },
    {
      "metadata": {
        "id": "JdNg5RdR7Zzv",
        "colab_type": "text"
      },
      "cell_type": "markdown",
      "source": [
        "# Data set"
      ]
    },
    {
      "metadata": {
        "id": "YgUoC6UowXUv",
        "colab_type": "code",
        "outputId": "95c6bd16-daba-4c34-e535-3a77a9a7ee88",
        "colab": {
          "base_uri": "https://localhost:8080/",
          "height": 204
        }
      },
      "cell_type": "code",
      "source": [
        "!wget https://ceb.nlm.nih.gov/proj/malaria/cell_images.zip\n"
      ],
      "execution_count": 0,
      "outputs": [
        {
          "output_type": "stream",
          "text": [
            "--2019-01-11 07:16:21--  https://ceb.nlm.nih.gov/proj/malaria/cell_images.zip\n",
            "Resolving ceb.nlm.nih.gov (ceb.nlm.nih.gov)... 130.14.52.15, 2607:f220:41e:7052::15\n",
            "Connecting to ceb.nlm.nih.gov (ceb.nlm.nih.gov)|130.14.52.15|:443... connected.\n",
            "HTTP request sent, awaiting response... 200 OK\n",
            "Length: 353452851 (337M) [application/zip]\n",
            "Saving to: ‘cell_images.zip.1’\n",
            "\n",
            "cell_images.zip.1   100%[===================>] 337.08M  8.94MB/s    in 35s     \n",
            "\n",
            "2019-01-11 07:16:57 (9.56 MB/s) - ‘cell_images.zip.1’ saved [353452851/353452851]\n",
            "\n"
          ],
          "name": "stdout"
        }
      ]
    },
    {
      "metadata": {
        "id": "H46w_NwswYjS",
        "colab_type": "code",
        "colab": {}
      },
      "cell_type": "code",
      "source": [
        "\n",
        "with zipfile.ZipFile('cell_images.zip', 'r') as zip_ref:\n",
        "   zip_ref.extractall()"
      ],
      "execution_count": 0,
      "outputs": []
    },
    {
      "metadata": {
        "id": "lg9gnG-RwkNw",
        "colab_type": "code",
        "outputId": "50f37cac-86d1-4774-fba9-fe012df241f1",
        "colab": {
          "base_uri": "https://localhost:8080/",
          "height": 34
        }
      },
      "cell_type": "code",
      "source": [
        "!ls"
      ],
      "execution_count": 0,
      "outputs": [
        {
          "output_type": "stream",
          "text": [
            "cell_images  cell_images.zip  cell_images.zip.1  sample_data\n"
          ],
          "name": "stdout"
        }
      ]
    },
    {
      "metadata": {
        "id": "QzqC0c1X7Zzx",
        "colab_type": "code",
        "outputId": "29ad6367-0187-4593-ddac-ca795229dae2",
        "colab": {
          "base_uri": "https://localhost:8080/",
          "height": 302
        }
      },
      "cell_type": "code",
      "source": [
        "import os\n",
        "from glob import glob\n",
        "from matplotlib.pyplot import imshow\n",
        "import numpy as np\n",
        "from PIL import Image, ImageFile\n",
        "\n",
        "ImageFile.LOAD_TRUNCATED_IMAGES = True\n",
        "\n",
        "db=\"cell_images\"\n",
        "data_dir= db + \"/\"\n",
        "\n",
        "imageList = glob(data_dir + '/**/*.png', recursive=True)\n",
        "print ( \"Number of images: {}\". format (len (imageList)))\n",
        "# for img in imageList[0:5]:\n",
        "#     print(img)\n",
        "    \n",
        "%matplotlib inline\n",
        "pil_im = Image.open(imageList[0], 'r')\n",
        "imshow(np.asarray(pil_im))"
      ],
      "execution_count": 0,
      "outputs": [
        {
          "output_type": "stream",
          "text": [
            "Number of images: 27558\n"
          ],
          "name": "stdout"
        },
        {
          "output_type": "execute_result",
          "data": {
            "text/plain": [
              "<matplotlib.image.AxesImage at 0x7f4d39ebb710>"
            ]
          },
          "metadata": {
            "tags": []
          },
          "execution_count": 5
        },
        {
          "output_type": "display_data",
          "data": {
            "image/png": "[encoded data removed]",
            "text/plain": [
              "<matplotlib.figure.Figure at 0x7f4d39ef5240>"
            ]
          },
          "metadata": {
            "tags": []
          }
        }
      ]
    },
    {
      "metadata": {
        "id": "wzDDHZA77Zz3",
        "colab_type": "text"
      },
      "cell_type": "markdown",
      "source": [
        "# Define pre trained networks"
      ]
    },
    {
      "metadata": {
        "id": "MGxhBxBJ7Zz4",
        "colab_type": "code",
        "colab": {}
      },
      "cell_type": "code",
      "source": [
        "from tqdm import tqdm # Enable progress bar\n",
        "from keras.applications.resnet50 import ResNet50, preprocess_input, decode_predictions # Load pre-trained model\n",
        "from keras.models import Model\n",
        "from keras.preprocessing import image\n",
        "from keras.layers import Flatten, Input\n",
        "\n",
        "    \n",
        "class VGGFV:\n",
        "    __name__ = \"VGGFV\"\n",
        "\n",
        "    def __init__(self, input_size=224,num_class=1,batch_size=32):\n",
        "        base_model = VGG16(weights='imagenet', include_top=False,\n",
        "                           input_shape=[input_size,input_size,3], classes=num_class)\n",
        "                                        \n",
        "        x2 = GlobalAveragePooling2D()(base_model.get_layer(\"block2_conv2\").output)  # 128\n",
        "        x3 = GlobalAveragePooling2D()(base_model.get_layer(\"block3_conv3\").output)  # 256\n",
        "        x4 = GlobalAveragePooling2D()(base_model.get_layer(\"block4_conv3\").output)  # 512\n",
        "        x5 = GlobalAveragePooling2D()(base_model.get_layer(\"block5_conv3\").output)  # 512        \n",
        "        x = Concatenate()([x2,x3,x4,x5])        \n",
        "\n",
        "        model = Model(inputs=base_model.input, outputs=x)        \n",
        "        optimizer = Adam(lr=0.0001)\n",
        "        model.compile(loss='categorical_crossentropy',\n",
        "                      optimizer=optimizer,\n",
        "                      metrics=['accuracy'])\n",
        "        \n",
        "        self.model=model    \n",
        "        self.batch_size = batch_size\n",
        "        self.data_format = K.image_data_format()\n",
        "    \n",
        "    def predict(self, x):\n",
        "        if self.data_format == \"channels_first\":\n",
        "            x = x.transpose(0, 3, 1, 2)\n",
        "        x = preprocess_vgg(x.astype(K.floatx()))\n",
        "        return self.model.predict(x, batch_size=self.batch_size).squeeze()\n",
        "    \n",
        "    \n",
        "def find_classes(fullDir):    \n",
        "    print (\"Full dir:{}\".format(fullDir))\n",
        "    classes = [d for d in os.listdir(fullDir) if os.path.isdir(os.path.join(fullDir, d))]\n",
        "    classes.sort()\n",
        "    class_to_idx = {classes[i]: i for i in range(len(classes))}\n",
        "    num_to_class = dict(zip(range(len(classes)), classes))\n",
        "\n",
        "    print('Sorted Classes: {}'.format(classes))\n",
        "    print('class_to_idx: {}'.format(class_to_idx))\n",
        "    print('num_to_class: {}'.format(num_to_class))\n",
        "\n",
        "    train = []\n",
        "    for index, label in enumerate(classes):\n",
        "        path = fullDir + label + '/'\n",
        "        for file in listdir(path):\n",
        "            if file.endswith('tif') or file.endswith('jpg') or file.endswith('png'):\n",
        "                train.append(['{}/{}/{}'.format(fullDir, label, file), label, index])\n",
        "\n",
        "    df = pd.DataFrame(train, columns=['file', 'category', 'category_id', ])\n",
        "\n",
        "    return classes, class_to_idx, num_to_class, df\n",
        "    "
      ],
      "execution_count": 0,
      "outputs": []
    },
    {
      "metadata": {
        "id": "D2KGSrJo7Zz8",
        "colab_type": "text"
      },
      "cell_type": "markdown",
      "source": [
        "# Test VGG feature extraction for a single image"
      ]
    },
    {
      "metadata": {
        "id": "Kqr8CNWE7Zz-",
        "colab_type": "code",
        "outputId": "885f8a1d-1b70-492c-f758-7cfd5668b54d",
        "colab": {
          "base_uri": "https://localhost:8080/",
          "height": 85
        }
      },
      "cell_type": "code",
      "source": [
        "# img_path = \"plays.jpg\"\n",
        "\n",
        "input_size=224\n",
        "\n",
        "img = image.load_img(imageList[0], target_size=(input_size, input_size))\n",
        "x = image.img_to_array(img)\n",
        "x = np.expand_dims(x, axis=0)\n",
        "x = preprocess_vgg(x)\n",
        "print (x.shape)\n",
        "\n",
        "model = VGGFV (input_size=input_size,num_class=1)\n",
        "vgg_feature_vector = model.predict(x)\n",
        "print (vgg_feature_vector.shape)\n",
        "vgg_feature_vector"
      ],
      "execution_count": 0,
      "outputs": [
        {
          "output_type": "stream",
          "text": [
            "(1, 224, 224, 3)\n",
            "(1408,)\n"
          ],
          "name": "stdout"
        },
        {
          "output_type": "execute_result",
          "data": {
            "text/plain": [
              "array([2.9726968e+02, 1.5485428e+02, 8.6709091e+01, ..., 0.0000000e+00,\n",
              "       6.9903703e+00, 3.1214338e-02], dtype=float32)"
            ]
          },
          "metadata": {
            "tags": []
          },
          "execution_count": 7
        }
      ]
    },
    {
      "metadata": {
        "id": "5_XzyZKt7Z0C",
        "colab_type": "text"
      },
      "cell_type": "markdown",
      "source": [
        "# Generate features for a full dataset"
      ]
    },
    {
      "metadata": {
        "id": "zWRqV9BM7Z0D",
        "colab_type": "code",
        "outputId": "8b605f30-f928-42b9-d25e-1f3afca044be",
        "colab": {
          "base_uri": "https://localhost:8080/",
          "height": 272
        }
      },
      "cell_type": "code",
      "source": [
        "columns=['file', 'category_id', 'fv']\n",
        "X_df_train=pd.DataFrame(data=np.zeros((0,len(columns))), columns=columns)\n",
        "classes, class_to_idx, num_to_class, df= find_classes(data_dir)\n",
        "print (class_to_idx)\n",
        "\n",
        "# Empty arrays for storing extracted features\n",
        "X_train = []; X_test = []\n",
        "\n",
        "# Extract bottleneck features of photos for traninig    \n",
        "for index, row in tqdm(df.iterrows()):\n",
        "    img = image.load_img(row['file'], target_size=(input_size, input_size))\n",
        "    x = image.img_to_array(img)\n",
        "    x = np.expand_dims(x, axis=0)    \n",
        "    vgg_feature_vector = model.predict(x)\n",
        "    X_train.append(vgg_feature_vector)\n",
        "#     print (vgg_feature_vector)\n",
        "    \n",
        "    X_df_train = X_df_train.append({ 'file':row['file'], \n",
        "                              'category_id':row['category'],                               \n",
        "                              'fv':vgg_feature_vector },\n",
        "                                 ignore_index=True)\n",
        "    \n",
        "\n",
        "# X_df_train.category_id.astype(int)    \n",
        "print(X_df_train.info())    "
      ],
      "execution_count": 0,
      "outputs": [
        {
          "output_type": "stream",
          "text": [
            "\r0it [00:00, ?it/s]"
          ],
          "name": "stderr"
        },
        {
          "output_type": "stream",
          "text": [
            "Full dir:cell_images/\n",
            "Sorted Classes: ['Parasitized', 'Uninfected']\n",
            "class_to_idx: {'Parasitized': 0, 'Uninfected': 1}\n",
            "num_to_class: {0: 'Parasitized', 1: 'Uninfected'}\n",
            "{'Parasitized': 0, 'Uninfected': 1}\n"
          ],
          "name": "stdout"
        },
        {
          "output_type": "stream",
          "text": [
            "27558it [14:13, 32.29it/s]\n"
          ],
          "name": "stderr"
        },
        {
          "output_type": "stream",
          "text": [
            "<class 'pandas.core.frame.DataFrame'>\n",
            "RangeIndex: 27558 entries, 0 to 27557\n",
            "Data columns (total 3 columns):\n",
            "file           27558 non-null object\n",
            "category_id    27558 non-null object\n",
            "fv             27558 non-null object\n",
            "dtypes: object(3)\n",
            "memory usage: 646.0+ KB\n",
            "None\n"
          ],
          "name": "stdout"
        }
      ]
    },
    {
      "metadata": {
        "id": "ZNe125407Z0G",
        "colab_type": "code",
        "outputId": "d3c7d538-ac32-40fe-f61e-55976236392a",
        "colab": {
          "base_uri": "https://localhost:8080/",
          "height": 204
        }
      },
      "cell_type": "code",
      "source": [
        "X_df_train.to_csv(str(model.__class__.__name__) + '_features_df.csv', index = False)\n",
        "X_df_train.head(5)"
      ],
      "execution_count": 0,
      "outputs": [
        {
          "output_type": "execute_result",
          "data": {
            "text/html": [
              "<div>\n",
              "<style scoped>\n",
              "    .dataframe tbody tr th:only-of-type {\n",
              "        vertical-align: middle;\n",
              "    }\n",
              "\n",
              "    .dataframe tbody tr th {\n",
              "        vertical-align: top;\n",
              "    }\n",
              "\n",
              "    .dataframe thead th {\n",
              "        text-align: right;\n",
              "    }\n",
              "</style>\n",
              "<table border=\"1\" class=\"dataframe\">\n",
              "  <thead>\n",
              "    <tr style=\"text-align: right;\">\n",
              "      <th></th>\n",
              "      <th>file</th>\n",
              "      <th>category_id</th>\n",
              "      <th>fv</th>\n",
              "    </tr>\n",
              "  </thead>\n",
              "  <tbody>\n",
              "    <tr>\n",
              "      <th>0</th>\n",
              "      <td>cell_images//Parasitized/C166P127ThinF_IMG_201...</td>\n",
              "      <td>Parasitized</td>\n",
              "      <td>[154.51245, 129.13434, 52.499256, 177.68222, 2...</td>\n",
              "    </tr>\n",
              "    <tr>\n",
              "      <th>1</th>\n",
              "      <td>cell_images//Parasitized/C137P98ThinF_IMG_2015...</td>\n",
              "      <td>Parasitized</td>\n",
              "      <td>[334.2452, 148.13434, 63.799255, 173.88977, 23...</td>\n",
              "    </tr>\n",
              "    <tr>\n",
              "      <th>2</th>\n",
              "      <td>cell_images//Parasitized/C76P37ThinF_IMG_20150...</td>\n",
              "      <td>Parasitized</td>\n",
              "      <td>[380.55075, 135.27888, 56.777332, 195.27806, 2...</td>\n",
              "    </tr>\n",
              "    <tr>\n",
              "      <th>3</th>\n",
              "      <td>cell_images//Parasitized/C91P52ThinF_IMG_20150...</td>\n",
              "      <td>Parasitized</td>\n",
              "      <td>[294.70276, 210.78967, 85.75303, 228.8644, 271...</td>\n",
              "    </tr>\n",
              "    <tr>\n",
              "      <th>4</th>\n",
              "      <td>cell_images//Parasitized/C39P4thinF_original_I...</td>\n",
              "      <td>Parasitized</td>\n",
              "      <td>[293.5817, 132.66466, 58.008904, 204.08217, 21...</td>\n",
              "    </tr>\n",
              "  </tbody>\n",
              "</table>\n",
              "</div>"
            ],
            "text/plain": [
              "                                                file  category_id  \\\n",
              "0  cell_images//Parasitized/C166P127ThinF_IMG_201...  Parasitized   \n",
              "1  cell_images//Parasitized/C137P98ThinF_IMG_2015...  Parasitized   \n",
              "2  cell_images//Parasitized/C76P37ThinF_IMG_20150...  Parasitized   \n",
              "3  cell_images//Parasitized/C91P52ThinF_IMG_20150...  Parasitized   \n",
              "4  cell_images//Parasitized/C39P4thinF_original_I...  Parasitized   \n",
              "\n",
              "                                                  fv  \n",
              "0  [154.51245, 129.13434, 52.499256, 177.68222, 2...  \n",
              "1  [334.2452, 148.13434, 63.799255, 173.88977, 23...  \n",
              "2  [380.55075, 135.27888, 56.777332, 195.27806, 2...  \n",
              "3  [294.70276, 210.78967, 85.75303, 228.8644, 271...  \n",
              "4  [293.5817, 132.66466, 58.008904, 204.08217, 21...  "
            ]
          },
          "metadata": {
            "tags": []
          },
          "execution_count": 9
        }
      ]
    },
    {
      "metadata": {
        "id": "a8G-Cd-558z0",
        "colab_type": "code",
        "colab": {}
      },
      "cell_type": "code",
      "source": [
        "!pip install -U -q PyDrive\n",
        "from pydrive.auth import GoogleAuth\n",
        "from pydrive.drive import GoogleDrive\n",
        "from google.colab import auth\n",
        "from oauth2client.client import GoogleCredentials\n",
        "# Authenticate and create the PyDrive client.\n",
        "auth.authenticate_user()\n",
        "gauth = GoogleAuth()\n",
        "gauth.credentials = GoogleCredentials.get_application_default()\n",
        "drive = GoogleDrive(gauth)"
      ],
      "execution_count": 0,
      "outputs": []
    },
    {
      "metadata": {
        "id": "xCRDvmZC_puY",
        "colab_type": "code",
        "colab": {}
      },
      "cell_type": "code",
      "source": [
        "file_name = str(model.__class__.__name__) + '_features_df.csv'"
      ],
      "execution_count": 0,
      "outputs": []
    },
    {
      "metadata": {
        "id": "MDzhkaKe6r6c",
        "colab_type": "code",
        "outputId": "6618059d-b1b9-42d7-e680-ceeb72b52427",
        "colab": {
          "base_uri": "https://localhost:8080/",
          "height": 34
        }
      },
      "cell_type": "code",
      "source": [
        "# 2. Specify folder\n",
        "file_list = drive.ListFile({'q': \"'root' in parents and trashed=false\"}).GetList()\n",
        "for file1 in file_list: \n",
        "  if file1['title'] == 'Colab Notebooks':\n",
        "    print ('title: %s, id: %s' % (file1['title'], file1['id']))\n",
        "    fid = file1['id']\n",
        "    \n",
        "# 3. Create & upload a file text file.\n",
        "uploaded = drive.CreateFile({\"parents\": [{\"kind\": \"drive#fileLink\", \"id\": fid}],'title': file_name})\n",
        "uploaded.SetContentFile(file_name)\n",
        "uploaded.Upload()\n",
        "print('Uploaded file with ID {}'.format(uploaded.get('id')))\n"
      ],
      "execution_count": 0,
      "outputs": [
        {
          "output_type": "stream",
          "text": [
            "Uploaded file with ID 1nKpnyi880Oi6ew7OE0R9iOzTFgnYai99\n"
          ],
          "name": "stdout"
        }
      ]
    },
    {
      "metadata": {
        "id": "9Vszxn7g7Z0J",
        "colab_type": "code",
        "outputId": "1dedd2f1-6e9c-425b-e19e-09d4b3191d12",
        "colab": {
          "base_uri": "https://localhost:8080/",
          "height": 142
        }
      },
      "cell_type": "code",
      "source": [
        "import pandas \n",
        "X_df_train_SINGLE=X_df_train.copy(deep=True)\n",
        "X_df_train_SINGLE.drop('file', axis=1, inplace=True)\n",
        "answers_1_SINGLE = list (X_df_train_SINGLE['category_id'].values)\n",
        "# answers_1_SINGLE= map(int, answers_1_SINGLE)\n",
        "X_df_train_SINGLE = X_df_train_SINGLE.drop('category_id', axis=1)\n",
        "X_df_train_SINGLE=X_df_train_SINGLE.apply(lambda x: pandas.to_numeric(x, errors='ignore'))\n",
        "\n",
        "X_df_train_SINGLE.head(3)"
      ],
      "execution_count": 0,
      "outputs": [
        {
          "output_type": "execute_result",
          "data": {
            "text/html": [
              "<div>\n",
              "<style scoped>\n",
              "    .dataframe tbody tr th:only-of-type {\n",
              "        vertical-align: middle;\n",
              "    }\n",
              "\n",
              "    .dataframe tbody tr th {\n",
              "        vertical-align: top;\n",
              "    }\n",
              "\n",
              "    .dataframe thead th {\n",
              "        text-align: right;\n",
              "    }\n",
              "</style>\n",
              "<table border=\"1\" class=\"dataframe\">\n",
              "  <thead>\n",
              "    <tr style=\"text-align: right;\">\n",
              "      <th></th>\n",
              "      <th>fv</th>\n",
              "    </tr>\n",
              "  </thead>\n",
              "  <tbody>\n",
              "    <tr>\n",
              "      <th>0</th>\n",
              "      <td>[154.51245, 129.13434, 52.499256, 177.68222, 2...</td>\n",
              "    </tr>\n",
              "    <tr>\n",
              "      <th>1</th>\n",
              "      <td>[334.2452, 148.13434, 63.799255, 173.88977, 23...</td>\n",
              "    </tr>\n",
              "    <tr>\n",
              "      <th>2</th>\n",
              "      <td>[380.55075, 135.27888, 56.777332, 195.27806, 2...</td>\n",
              "    </tr>\n",
              "  </tbody>\n",
              "</table>\n",
              "</div>"
            ],
            "text/plain": [
              "                                                  fv\n",
              "0  [154.51245, 129.13434, 52.499256, 177.68222, 2...\n",
              "1  [334.2452, 148.13434, 63.799255, 173.88977, 23...\n",
              "2  [380.55075, 135.27888, 56.777332, 195.27806, 2..."
            ]
          },
          "metadata": {
            "tags": []
          },
          "execution_count": 19
        }
      ]
    },
    {
      "metadata": {
        "id": "whkXkLEACF-V",
        "colab_type": "code",
        "colab": {}
      },
      "cell_type": "code",
      "source": [
        "# column_names = [ 'column'+str(n) for n in range(0,len(X_df_train_SINGLE.iloc[0][0]))]"
      ],
      "execution_count": 0,
      "outputs": []
    },
    {
      "metadata": {
        "id": "iN8tEI4Z7Z0Q",
        "colab_type": "code",
        "outputId": "3e4b5f35-7d5e-45d4-b4ea-f214b57644b6",
        "colab": {
          "base_uri": "https://localhost:8080/",
          "height": 51
        }
      },
      "cell_type": "code",
      "source": [
        "# Function to make labels in the data frame into a list (i.e. 0 8 => [0, 8])\n",
        "# def labels_to_list(labels): *YOUR CODE HERE* \n",
        "\n",
        "# Process train & test set into an array format\n",
        "X_train = pd.DataFrame(X_df_train_SINGLE.fv.values.tolist(), index= X_df_train_SINGLE.index)\n",
        "Y_train = np.where(X_df_train.category_id.values=='Parasitized',1,0)\n",
        "\n",
        "# Check shape of array-format train & test set\n",
        "print(\"X_train: \", X_train.shape)\n",
        "print(\"Y_train: \", Y_train.shape)"
      ],
      "execution_count": 0,
      "outputs": [
        {
          "output_type": "stream",
          "text": [
            "X_train:  (27558, 1408)\n",
            "Y_train:  (27558,)\n"
          ],
          "name": "stdout"
        }
      ]
    },
    {
      "metadata": {
        "id": "NHiZof5z7Z0T",
        "colab_type": "code",
        "colab": {}
      },
      "cell_type": "code",
      "source": [
        "# Load packages for splitting train & validation set, XGBoost classifier, 1-of-K encoder\n",
        "seed = 999\n",
        "\n",
        "from sklearn.model_selection import train_test_split\n",
        "from sklearn.linear_model import LogisticRegression\n",
        "from sklearn.svm import SVC\n",
        "import xgboost as xgb\n",
        "from sklearn.pipeline import Pipeline\n",
        "from sklearn.preprocessing import StandardScaler"
      ],
      "execution_count": 0,
      "outputs": []
    },
    {
      "metadata": {
        "id": "OODsLxsKKTer",
        "colab_type": "code",
        "colab": {}
      },
      "cell_type": "code",
      "source": [
        "X_train_, X_test_, Y_train_, Y_test_ = train_test_split(X_train, Y_train, test_size=0.2, random_state=seed)"
      ],
      "execution_count": 0,
      "outputs": []
    },
    {
      "metadata": {
        "id": "TqT6iUjqKnfO",
        "colab_type": "code",
        "outputId": "328b508f-c892-4e71-ad59-1970402ef714",
        "colab": {
          "base_uri": "https://localhost:8080/",
          "height": 253
        }
      },
      "cell_type": "code",
      "source": [
        "X_train_.head()"
      ],
      "execution_count": 0,
      "outputs": [
        {
          "output_type": "execute_result",
          "data": {
            "text/html": [
              "<div>\n",
              "<style scoped>\n",
              "    .dataframe tbody tr th:only-of-type {\n",
              "        vertical-align: middle;\n",
              "    }\n",
              "\n",
              "    .dataframe tbody tr th {\n",
              "        vertical-align: top;\n",
              "    }\n",
              "\n",
              "    .dataframe thead th {\n",
              "        text-align: right;\n",
              "    }\n",
              "</style>\n",
              "<table border=\"1\" class=\"dataframe\">\n",
              "  <thead>\n",
              "    <tr style=\"text-align: right;\">\n",
              "      <th></th>\n",
              "      <th>0</th>\n",
              "      <th>1</th>\n",
              "      <th>2</th>\n",
              "      <th>3</th>\n",
              "      <th>4</th>\n",
              "      <th>5</th>\n",
              "      <th>6</th>\n",
              "      <th>7</th>\n",
              "      <th>8</th>\n",
              "      <th>9</th>\n",
              "      <th>...</th>\n",
              "      <th>1398</th>\n",
              "      <th>1399</th>\n",
              "      <th>1400</th>\n",
              "      <th>1401</th>\n",
              "      <th>1402</th>\n",
              "      <th>1403</th>\n",
              "      <th>1404</th>\n",
              "      <th>1405</th>\n",
              "      <th>1406</th>\n",
              "      <th>1407</th>\n",
              "    </tr>\n",
              "  </thead>\n",
              "  <tbody>\n",
              "    <tr>\n",
              "      <th>25193</th>\n",
              "      <td>134.865997</td>\n",
              "      <td>106.262070</td>\n",
              "      <td>46.961899</td>\n",
              "      <td>204.575256</td>\n",
              "      <td>164.755722</td>\n",
              "      <td>89.906380</td>\n",
              "      <td>152.565506</td>\n",
              "      <td>86.412575</td>\n",
              "      <td>76.537788</td>\n",
              "      <td>127.748512</td>\n",
              "      <td>...</td>\n",
              "      <td>1.192204</td>\n",
              "      <td>0.219021</td>\n",
              "      <td>0.000000</td>\n",
              "      <td>0.111670</td>\n",
              "      <td>3.205772</td>\n",
              "      <td>4.527327</td>\n",
              "      <td>0.007197</td>\n",
              "      <td>0.005927</td>\n",
              "      <td>3.366643</td>\n",
              "      <td>0.020725</td>\n",
              "    </tr>\n",
              "    <tr>\n",
              "      <th>6455</th>\n",
              "      <td>322.062531</td>\n",
              "      <td>118.139183</td>\n",
              "      <td>50.166504</td>\n",
              "      <td>152.704514</td>\n",
              "      <td>187.705261</td>\n",
              "      <td>97.080429</td>\n",
              "      <td>170.830795</td>\n",
              "      <td>69.801918</td>\n",
              "      <td>69.487625</td>\n",
              "      <td>114.144043</td>\n",
              "      <td>...</td>\n",
              "      <td>0.982355</td>\n",
              "      <td>1.592196</td>\n",
              "      <td>0.023962</td>\n",
              "      <td>0.020316</td>\n",
              "      <td>1.590379</td>\n",
              "      <td>6.562165</td>\n",
              "      <td>0.000000</td>\n",
              "      <td>0.000000</td>\n",
              "      <td>9.046949</td>\n",
              "      <td>0.000000</td>\n",
              "    </tr>\n",
              "    <tr>\n",
              "      <th>3104</th>\n",
              "      <td>291.313690</td>\n",
              "      <td>137.792862</td>\n",
              "      <td>56.654495</td>\n",
              "      <td>214.038361</td>\n",
              "      <td>214.688080</td>\n",
              "      <td>105.661064</td>\n",
              "      <td>228.083328</td>\n",
              "      <td>78.065132</td>\n",
              "      <td>77.852898</td>\n",
              "      <td>141.091400</td>\n",
              "      <td>...</td>\n",
              "      <td>1.105584</td>\n",
              "      <td>0.262120</td>\n",
              "      <td>0.000000</td>\n",
              "      <td>0.054608</td>\n",
              "      <td>0.992920</td>\n",
              "      <td>5.425275</td>\n",
              "      <td>0.000000</td>\n",
              "      <td>0.036170</td>\n",
              "      <td>5.273141</td>\n",
              "      <td>0.015995</td>\n",
              "    </tr>\n",
              "    <tr>\n",
              "      <th>5410</th>\n",
              "      <td>295.749298</td>\n",
              "      <td>133.308441</td>\n",
              "      <td>60.959999</td>\n",
              "      <td>234.156525</td>\n",
              "      <td>246.685745</td>\n",
              "      <td>105.317215</td>\n",
              "      <td>199.470291</td>\n",
              "      <td>114.222992</td>\n",
              "      <td>102.965553</td>\n",
              "      <td>153.062897</td>\n",
              "      <td>...</td>\n",
              "      <td>1.859087</td>\n",
              "      <td>0.500733</td>\n",
              "      <td>0.000000</td>\n",
              "      <td>0.018573</td>\n",
              "      <td>6.140352</td>\n",
              "      <td>9.393803</td>\n",
              "      <td>0.025261</td>\n",
              "      <td>0.108682</td>\n",
              "      <td>1.983099</td>\n",
              "      <td>0.000000</td>\n",
              "    </tr>\n",
              "    <tr>\n",
              "      <th>21017</th>\n",
              "      <td>302.443909</td>\n",
              "      <td>107.965683</td>\n",
              "      <td>50.283623</td>\n",
              "      <td>183.585159</td>\n",
              "      <td>178.291000</td>\n",
              "      <td>86.042191</td>\n",
              "      <td>176.955215</td>\n",
              "      <td>66.128448</td>\n",
              "      <td>63.989319</td>\n",
              "      <td>124.238220</td>\n",
              "      <td>...</td>\n",
              "      <td>2.187443</td>\n",
              "      <td>0.958484</td>\n",
              "      <td>0.000000</td>\n",
              "      <td>0.213534</td>\n",
              "      <td>2.112122</td>\n",
              "      <td>6.464809</td>\n",
              "      <td>0.000000</td>\n",
              "      <td>0.061859</td>\n",
              "      <td>5.292698</td>\n",
              "      <td>0.000000</td>\n",
              "    </tr>\n",
              "  </tbody>\n",
              "</table>\n",
              "<p>5 rows × 1408 columns</p>\n",
              "</div>"
            ],
            "text/plain": [
              "             0           1          2           3           4           5     \\\n",
              "25193  134.865997  106.262070  46.961899  204.575256  164.755722   89.906380   \n",
              "6455   322.062531  118.139183  50.166504  152.704514  187.705261   97.080429   \n",
              "3104   291.313690  137.792862  56.654495  214.038361  214.688080  105.661064   \n",
              "5410   295.749298  133.308441  60.959999  234.156525  246.685745  105.317215   \n",
              "21017  302.443909  107.965683  50.283623  183.585159  178.291000   86.042191   \n",
              "\n",
              "             6           7           8           9       ...         1398  \\\n",
              "25193  152.565506   86.412575   76.537788  127.748512    ...     1.192204   \n",
              "6455   170.830795   69.801918   69.487625  114.144043    ...     0.982355   \n",
              "3104   228.083328   78.065132   77.852898  141.091400    ...     1.105584   \n",
              "5410   199.470291  114.222992  102.965553  153.062897    ...     1.859087   \n",
              "21017  176.955215   66.128448   63.989319  124.238220    ...     2.187443   \n",
              "\n",
              "           1399      1400      1401      1402      1403      1404      1405  \\\n",
              "25193  0.219021  0.000000  0.111670  3.205772  4.527327  0.007197  0.005927   \n",
              "6455   1.592196  0.023962  0.020316  1.590379  6.562165  0.000000  0.000000   \n",
              "3104   0.262120  0.000000  0.054608  0.992920  5.425275  0.000000  0.036170   \n",
              "5410   0.500733  0.000000  0.018573  6.140352  9.393803  0.025261  0.108682   \n",
              "21017  0.958484  0.000000  0.213534  2.112122  6.464809  0.000000  0.061859   \n",
              "\n",
              "           1406      1407  \n",
              "25193  3.366643  0.020725  \n",
              "6455   9.046949  0.000000  \n",
              "3104   5.273141  0.015995  \n",
              "5410   1.983099  0.000000  \n",
              "21017  5.292698  0.000000  \n",
              "\n",
              "[5 rows x 1408 columns]"
            ]
          },
          "metadata": {
            "tags": []
          },
          "execution_count": 54
        }
      ]
    },
    {
      "metadata": {
        "id": "WdZjSHhFNpoo",
        "colab_type": "code",
        "colab": {}
      },
      "cell_type": "code",
      "source": [
        "p = Pipeline([('scaler',StandardScaler()),('logistic',LogisticRegression(random_state=seed, solver='sag', max_iter = 200))])"
      ],
      "execution_count": 0,
      "outputs": []
    },
    {
      "metadata": {
        "id": "VcnnlON-KC9y",
        "colab_type": "code",
        "outputId": "cb367074-41b0-42ab-95eb-5897f667e28b",
        "colab": {
          "base_uri": "https://localhost:8080/",
          "height": 88
        }
      },
      "cell_type": "code",
      "source": [
        "t = time.time()\n",
        "p.fit(X_train_, Y_train_)\n",
        "# Show spent time\n",
        "print(\"Time passed: \", \"{0:.3f}\".format(time.time() - t), \"sec\")\n"
      ],
      "execution_count": 0,
      "outputs": [
        {
          "output_type": "stream",
          "text": [
            "Time passed:  92.540 sec\n"
          ],
          "name": "stdout"
        },
        {
          "output_type": "stream",
          "text": [
            "/usr/local/lib/python3.6/dist-packages/sklearn/linear_model/sag.py:334: ConvergenceWarning: The max_iter was reached which means the coef_ did not converge\n",
            "  \"the coef_ did not converge\", ConvergenceWarning)\n"
          ],
          "name": "stderr"
        }
      ]
    },
    {
      "metadata": {
        "id": "fSHEOgcR7Z0X",
        "colab_type": "code",
        "outputId": "6fa51f95-09de-49bf-8d02-ceb93e6f96c7",
        "colab": {
          "base_uri": "https://localhost:8080/",
          "height": 153
        }
      },
      "cell_type": "code",
      "source": [
        "from sklearn.metrics import f1_score # For measuring F1 score metrics\n",
        "import numpy as np\n",
        "import pandas as pd\n",
        "import matplotlib.pyplot as plt\n",
        "import seaborn as sns\n",
        "from sklearn.metrics import confusion_matrix\n",
        "from sklearn.metrics import confusion_matrix\n",
        "from sklearn.preprocessing import OneHotEncoder\n",
        "\n",
        "import pickle\n",
        "from sklearn.externals import joblib\n",
        "\n",
        "# Predict labels using the trained model\n",
        "# Y_predict = classifier.predict_proba(X_test_) # probs\n",
        "# Predict labels using the trained model\n",
        "Y_predict = classifier.predict(X_test_) # classes \n",
        "\n",
        "# Show some predicted values\n",
        "print(\"Samples of predicted labels (in 1-of-K coding scheme):\\n\", Y_predict[1:8])\n",
        "print(\"\\nSamples of corresponding predicted labels:\\n\", Y_predict[1:8])\n",
        "\n",
        "# Show global F1 score & on-label F1 score\n",
        "print(\"Overall F1 score: \", f1_score(Y_test_, Y_predict, average='micro')) \n",
        "print(\"F1 score of each label : \", f1_score(Y_test_, Y_predict, average=None))\n",
        "\n",
        "# save model to file\n",
        "joblib.dump(classifier, (db + '_' + str(model.__class__.__name__) +  '_' + \n",
        "                         str (f1_score(Y_test_, Y_predict, average='micro')) + \".dat\"))"
      ],
      "execution_count": 0,
      "outputs": [
        {
          "output_type": "stream",
          "text": [
            "Samples of predicted labels (in 1-of-K coding scheme):\n",
            " [0 0 1 0 0 1 0]\n",
            "\n",
            "Samples of corresponding predicted labels:\n",
            " [0 0 1 0 0 1 0]\n",
            "Overall F1 score:  0.9575471698113207\n",
            "F1 score of each label :  [0.95748547 0.9576087 ]\n"
          ],
          "name": "stdout"
        },
        {
          "output_type": "execute_result",
          "data": {
            "text/plain": [
              "['cell_images_VGGFV_0.9575471698113207.dat']"
            ]
          },
          "metadata": {
            "tags": []
          },
          "execution_count": 61
        }
      ]
    },
    {
      "metadata": {
        "id": "yBv99Swg7Z0b",
        "colab_type": "code",
        "colab": {}
      },
      "cell_type": "code",
      "source": [
        "# print (one_of_K_encoder.classes_)"
      ],
      "execution_count": 0,
      "outputs": []
    },
    {
      "metadata": {
        "id": "srpxV7Nu7Z0g",
        "colab_type": "text"
      },
      "cell_type": "markdown",
      "source": [
        "Note that the several instances returned all zeroes, indicating that they matched none of the three labels fit"
      ]
    },
    {
      "metadata": {
        "id": "uzKq9p7a7Z0g",
        "colab_type": "text"
      },
      "cell_type": "markdown",
      "source": [
        "### CM\n",
        "- input to confusion_matrix must be a list of predictions, not OHEs (one hot encodings)."
      ]
    },
    {
      "metadata": {
        "id": "_7PTVnXR7Z0i",
        "colab_type": "code",
        "colab": {}
      },
      "cell_type": "code",
      "source": [
        "import numpy as np\n",
        "import pandas as pd\n",
        "import matplotlib.pyplot as plt\n",
        "import seaborn as sns\n",
        "from sklearn.metrics import confusion_matrix\n",
        "from sklearn.metrics import confusion_matrix\n",
        "\n",
        "# labels = np.array([0, 1,2])\n",
        "labels= ['Non-Parasitized','Parasitized']#one_of_K_encoder.classes_\n",
        "\n",
        "def cm_analysis(y_true, y_pred, labels, ymap=None, figsize=(10,10)):\n",
        "    \"\"\"\n",
        "    Generate matrix plot of confusion matrix with pretty annotations.\n",
        "    The plot image is saved to disk.\n",
        "    args: \n",
        "      y_true:    true label of the data, with shape (nsamples,)\n",
        "      y_pred:    prediction of the data, with shape (nsamples,)\n",
        "      filename:  filename of figure file to save\n",
        "      labels:    string array, name the order of class labels in the confusion matrix.\n",
        "                 use `clf.classes_` if using scikit-learn models.\n",
        "                 with shape (nclass,).\n",
        "      ymap:      dict: any -> string, length == nclass.\n",
        "                 if not None, map the labels & ys to more understandable strings.\n",
        "                 Caution: original y_true, y_pred and labels must align.\n",
        "      figsize:   the size of the figure plotted.\n",
        "    \"\"\"\n",
        "    if ymap is not None:\n",
        "        y_pred = [ymap[yi] for yi in y_pred]\n",
        "        y_true = [ymap[yi] for yi in y_true]\n",
        "        labels = [ymap[yi] for yi in labels]\n",
        "    cm = confusion_matrix(y_true, y_pred, labels=None)\n",
        "    cm_sum = np.sum(cm, axis=1, keepdims=True)\n",
        "    cm_perc = cm / cm_sum.astype(float) * 100\n",
        "    annot = np.empty_like(cm).astype(str)\n",
        "    nrows, ncols = cm.shape\n",
        "    for i in range(nrows):\n",
        "        for j in range(ncols):\n",
        "            c = cm[i, j]\n",
        "            p = cm_perc[i, j]\n",
        "            if i == j:\n",
        "                s = cm_sum[i]\n",
        "                annot[i, j] = '%.1f%%\\n%d/%d' % (p, c, s)\n",
        "            elif c == 0:\n",
        "                annot[i, j] = ''\n",
        "            else:\n",
        "                annot[i, j] = '%.1f%%\\n%d' % (p, c)\n",
        "    cm = pd.DataFrame(cm, index=labels, columns=labels)\n",
        "    cm.index.name = 'Actual'\n",
        "    cm.columns.name = 'Predicted'\n",
        "    fig, ax = plt.subplots(figsize=figsize)\n",
        "    sns.heatmap(cm, annot=annot, fmt='', ax=ax)\n",
        "#     plt.savefig(filename)"
      ],
      "execution_count": 0,
      "outputs": []
    },
    {
      "metadata": {
        "id": "pYms8nHA7Z0m",
        "colab_type": "code",
        "outputId": "89729bf6-2f48-473a-9394-b452b66d5d6e",
        "colab": {
          "base_uri": "https://localhost:8080/",
          "height": 606
        }
      },
      "cell_type": "code",
      "source": [
        "cm_analysis(Y_test_, Y_predict, labels)"
      ],
      "execution_count": 0,
      "outputs": [
        {
          "output_type": "display_data",
          "data": {
            "image/png": "[encoded data removed]",
            "text/plain": [
              "<matplotlib.figure.Figure at 0x7f4d1b2169e8>"
            ]
          },
          "metadata": {
            "tags": []
          }
        }
      ]
    },
    {
      "metadata": {
        "id": "dPiIwdRBwPIS",
        "colab_type": "code",
        "colab": {}
      },
      "cell_type": "code",
      "source": [
        ""
      ],
      "execution_count": 0,
      "outputs": []
    }
  ]
}